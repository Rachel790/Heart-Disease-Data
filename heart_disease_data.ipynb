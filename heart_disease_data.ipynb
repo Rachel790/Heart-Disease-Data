{
 "cells": [
  {
   "cell_type": "markdown",
   "metadata": {},
   "source": [
    "# DSCI 100 Group Project Proposal\n",
    "\n",
    "team: Rachel Liang, Ziyan He, Yuchen Zhang, Zohane Bal"
   ]
  },
  {
   "cell_type": "code",
   "execution_count": null,
   "metadata": {},
   "outputs": [],
   "source": [
    "### Run this cell before continuing. \n",
    "library(tidyverse)\n",
    "library(testthat)\n",
    "library(digest)\n",
    "library(repr)\n",
    "library(tidymodels)\n",
    "library(GGally)\n",
    "library(ISLR)\n",
    "options(repr.matrix.max.rows = 6)\n",
    "source(\"tests.R\")\n",
    "source(\"cleanup.R\")"
   ]
  },
  {
   "cell_type": "markdown",
   "metadata": {},
   "source": [
    "### Introduction    \n",
    "\n",
    "The dataset we are working on is downloaded from the UCI Machine Learning Repository. Although the dataset contains four databases about the heart disease diagnosis from 4 different locations, we only picked the database collected from the Cleveland Clinic Foundation since it is the only data base that has full 14 attributes recored for each heart disease diagnosis. The total instances in this database is 303."
   ]
  },
  {
   "cell_type": "markdown",
   "metadata": {},
   "source": [
    "### Load Data and Wrangle Data\n",
    "This dataset does not need to be cleaned since it does not have any missing data or missing attributes. <br>\n",
    "We added column names to the dataset and selected columns we needed for analysis. Also as we are treating some attributes's numeric values as categorical variables, we used as.factor() for conversion."
   ]
  },
  {
   "cell_type": "code",
   "execution_count": null,
   "metadata": {},
   "outputs": [],
   "source": [
    "set.seed(1234)\n",
    "\n",
    "heart_disease_url = \"https://archive.ics.uci.edu/ml/machine-learning-databases/heart-disease/processed.cleveland.data\"\n",
    "\n",
    "\n",
    "heart_disease_data <- read_csv(heart_disease_url, col_names = c(\"age\", \"sex\", \"cp\", \"trestbps\", \"chol\", \"fbs\",\n",
    "                                                               \"restecg\", \"thalach\", \"exang\", \"oldpeak\", \"slope\",\n",
    "                                                               \"ca\", \"thal\", \"num\"))\n",
    "heart_disease_data"
   ]
  },
  {
   "cell_type": "markdown",
   "metadata": {},
   "source": [
    "### 14 Attributes Description\n",
    "* Age: age in years\n",
    "* Sex: ( 1 = male, 0 = female)\n",
    "* Cp: chest pain type\n",
    "Value 1: typical angina\n",
    "Value 2: atypical angina\n",
    "Value 3: non-anginal pain\n",
    "Value 4 asymptomatic\n",
    "* Trestbps: Resting Blood pressure ( in mm Hg on admission to hospital)\n",
    "* Chol: Serum cholesterol in mg/dl\n",
    "* Fbs: Fastig blood suger > 120 (1 = true, 0 = false)\n",
    "* Dm: 1 = history if diabetes , 0 = no such history)\n",
    "* Restecg: Resting electro cardiac results\n",
    "Value 0 : normal\n",
    "Value 1: having ST-T wave abnormality ( T wave inversion and/or ST elevation or depression of > 0.05 mV)\n",
    "Value 2” Showing probable or definite left ventricular hypertrophy by Estes’ criteria\n",
    "* Thalach: maximum heart rate achieved\n",
    "* Exang: exercise induced angina (1 = yes ,0 = no)\n",
    "* Oldpeak:ST depression induced by exercise relative to rest\n",
    "* Slope: The slope of the peak exercise ST segment\n",
    "Value 1: upsloping\n",
    "Value 2: flat\n",
    "Value 3: downsloping\n",
    "* Ca: Number of major vessels (0-3) coloured by fluorosopy\n",
    "* Thal: 3 = normal , 6= fixed defect , 7 = reversible defect\n",
    "* Num: diagnosis of heart disease\n",
    "Value 0 <50% diameter narrowing\n",
    "Value 1 > 50% Diameter narrowing"
   ]
  },
  {
   "cell_type": "code",
   "execution_count": null,
   "metadata": {},
   "outputs": [],
   "source": [
    "correlation_plot <- heart_disease_data %>% \n",
    "                select(-ca, -thal) %>% \n",
    "                ggpairs(heart_disease_data[1:12]) +\n",
    "                theme(text = element_text(size = 12))\n",
    "\n",
    "\n",
    "correlation_plot"
   ]
  },
  {
   "cell_type": "code",
   "execution_count": null,
   "metadata": {},
   "outputs": [],
   "source": [
    "cp_vs_num <- heart_disease_data %>% \n",
    "            select(num, cp) %>% \n",
    "            group_by(num, cp) %>% \n",
    "            summarize(n = n()) %>%\n",
    "            ggplot(aes(x = num, y = n, fill = cp)) +\n",
    "            geom_bar(stat = \"identity\",position = \"fill\")\n",
    "cp_vs_num"
   ]
  },
  {
   "cell_type": "code",
   "execution_count": null,
   "metadata": {},
   "outputs": [],
   "source": [
    "thalach_vs_num <- heart_disease_data %>% \n",
    "            select(num, thalach) %>% \n",
    "            group_by(num, thalach) %>% \n",
    "            summarize(n = n()) %>%\n",
    "            ggplot(aes(x = num, y = n, fill = thalach)) +\n",
    "            geom_bar(stat = \"identity\",position = \"fill\")\n",
    "thalach_vs_num"
   ]
  },
  {
   "cell_type": "code",
   "execution_count": null,
   "metadata": {},
   "outputs": [],
   "source": [
    "set.seed(1234)\n",
    "heart_disease_data <- read_csv(heart_disease_url, col_names = c(\"age\", \"sex\", \"cp\", \"trestbps\", \"chol\", \"fbs\",\n",
    "                                                               \"restecg\", \"thalach\", \"exang\", \"oldpeak\", \"slope\",\n",
    "                                                               \"ca\", \"thal\", \"num\")) %>% \n",
    "                        mutate(num = as.factor(num)) %>% \n",
    "#                         mutate(cp = as.factor(cp), fbs = as.factor(fbs), restecg = as.factor(restecg), \n",
    "#                             exang = as.factor(exang), slope = as.factor(slope), sex = as.factor(sex)) %>% \n",
    "                        select(age, sex, cp, thalach, exang, slope, num, oldpeak) \n",
    "heart_disease_data"
   ]
  },
  {
   "cell_type": "markdown",
   "metadata": {},
   "source": [
    "### Check for balancing"
   ]
  },
  {
   "cell_type": "code",
   "execution_count": null,
   "metadata": {},
   "outputs": [],
   "source": [
    "num_obs <- nrow(heart_disease_data)\n",
    "        heart_disease_data %>% \n",
    "        group_by(num) %>% \n",
    "        summarize(\n",
    "        count = n(),\n",
    "        percentage = n() / num_obs * 100)"
   ]
  },
  {
   "cell_type": "markdown",
   "metadata": {},
   "source": [
    "drawing multiple histograms and the x-axis is the num (possibility of getting heart disease : 0, 1, 2, 3) and the y-axis is the count. color the bar using position \"filled\" with each column (such as cp, fbs according to the larger correlation in the ggpair). if this variable has a high correlation related to getting heart disease, the proportion of color will be filled more in the larger x-axis, and otherwise. Also use medical research to add ontop of the correlation because correlation does not mean causation."
   ]
  },
  {
   "cell_type": "code",
   "execution_count": null,
   "metadata": {},
   "outputs": [],
   "source": [
    "set.seed(1234)\n",
    "heart_disease_data_2 <- read_csv(heart_disease_url, col_names = c(\"age\", \"sex\", \"cp\", \"trestbps\", \"chol\", \"fbs\",\n",
    "                                                               \"restecg\", \"thalach\", \"exang\", \"oldpeak\", \"slope\",\n",
    "                                                               \"ca\", \"thal\", \"num\")) %>% \n",
    "#                         mutate(num = as.factor(num)) %>% \n",
    "#                         mutate(cp = as.numeric(as.factor(cp)), fbs = as.factor(fbs), restecg = as.factor(restecg), \n",
    "#                             exang = as.numeric(as.factor(exang)), slope = as.numeric(as.factor(slope)), \n",
    "#                                sex = as.numeric(as.factor(sex))) %>% \n",
    "                        select(cp, thalach, exang, slope, oldpeak, num) %>% \n",
    "                        mutate(num = as.factor(num))\n",
    "heart_disease_data_2"
   ]
  },
  {
   "cell_type": "code",
   "execution_count": null,
   "metadata": {},
   "outputs": [],
   "source": [
    "heart_disease_data_3 <- read_csv(heart_disease_url, col_names = c(\"age\", \"sex\", \"cp\", \"trestbps\", \"chol\", \"fbs\",\n",
    "                                                               \"restecg\", \"thalach\", \"exang\", \"oldpeak\", \"slope\",\n",
    "                                                               \"ca\", \"thal\", \"num\")) %>% \n",
    "                    mutate(num = replace(num, num =='2',1)) %>% \n",
    "                    mutate(num = replace(num, num =='3',1)) %>% \n",
    "                    mutate(num = replace(num, num =='4',1)) %>% \n",
    "                    select(cp, thalach, exang, slope, oldpeak, num) %>% \n",
    "                    mutate(num = as.factor(num))\n",
    "                    \n",
    "heart_disease_data_3                "
   ]
  },
  {
   "cell_type": "markdown",
   "metadata": {},
   "source": [
    "### Check for balancing new"
   ]
  },
  {
   "cell_type": "code",
   "execution_count": null,
   "metadata": {},
   "outputs": [],
   "source": [
    "num_obs_new <- nrow(heart_disease_data_3)\n",
    "        heart_disease_data_3 %>% \n",
    "        group_by(num) %>% \n",
    "        summarize(\n",
    "        count = n(),\n",
    "        percentage = n() / num_obs_new * 100)"
   ]
  },
  {
   "cell_type": "markdown",
   "metadata": {},
   "source": [
    "### Split Into Training and Testing Dataset\n",
    "Based on the number of instances in this dataset, we decided that setting 75% of the data in the dataset as training data and the remaining 25% as testing data will make a good balance for training the classifier and evaluating the classifier's accuracy."
   ]
  },
  {
   "cell_type": "code",
   "execution_count": null,
   "metadata": {},
   "outputs": [],
   "source": [
    "set.seed(1234)\n",
    "heart_disease_split <- initial_split(heart_disease_data_2, prop = 0.75, strata = num)\n",
    "heart_disease_train <- training(heart_disease_split)\n",
    "heart_disease_test <- testing(heart_disease_split)\n",
    "\n",
    "head(heart_disease_data_2, 10)"
   ]
  },
  {
   "cell_type": "markdown",
   "metadata": {},
   "source": [
    "### Summary"
   ]
  },
  {
   "cell_type": "code",
   "execution_count": null,
   "metadata": {},
   "outputs": [],
   "source": [
    "summary(heart_disease_train)"
   ]
  },
  {
   "cell_type": "markdown",
   "metadata": {},
   "source": [
    "### Visualization\n"
   ]
  },
  {
   "cell_type": "markdown",
   "metadata": {},
   "source": [
    "The boxplot below shows the distribution of age for each different probability level of having a heart disease."
   ]
  },
  {
   "cell_type": "code",
   "execution_count": null,
   "metadata": {},
   "outputs": [],
   "source": [
    "# age_vs_heart_disease <- heart_disease_train %>% \n",
    "#                     ggplot(aes(x = num, y = age)) +\n",
    "#                     geom_boxplot(aes(group = num)) +\n",
    "#                     labs(x = \"Probability of having heart disease (from 0 to 4)\", y = \"Patient Age\") +\n",
    "#                     ggtitle(\"Age vs. Probability of having heart disease (from 0 to 4)\") +\n",
    "#                     theme(text = element_text(size = 20))\n",
    "                    \n",
    "# age_vs_heart_disease"
   ]
  },
  {
   "cell_type": "markdown",
   "metadata": {},
   "source": [
    "The graph2 below shows the distribution of different chest pain types for different probability levels of having heart disease.<br>\n",
    "Chest pain type 1-4 means:\n",
    "* Value 1: typical angina\n",
    "* Value 2: atypical angina\n",
    "* Value 3: non-anginal pain\n",
    "* Value 4: asymptomatic\n",
    "<br>\n"
   ]
  },
  {
   "cell_type": "code",
   "execution_count": null,
   "metadata": {},
   "outputs": [],
   "source": [
    "options(repr.plot.width = 10, repr.plot.height = 10) \n",
    "\n",
    "sex_vs_heart_disease <- heart_disease_train %>% \n",
    "                        select(num, cp) %>% \n",
    "                        group_by(num, cp) %>% \n",
    "                        summarize(n = n()) %>% \n",
    "                        ggplot(aes(x = num, y = n, fill = cp)) +\n",
    "                        geom_bar(stat = \"identity\",position = \"fill\") +\n",
    "                        labs(x =  \"Probability of having heart disease (from 0 to 4)\", y = \"distribution of different types of chest pain\", fill = \"chest pain type\") +\n",
    "                        ggtitle(\"Chest pain vs.  Probability of having heart disease (from 0 to 4)\") +\n",
    "                        theme(text = element_text(size = 18))\n",
    "sex_vs_heart_disease"
   ]
  },
  {
   "cell_type": "markdown",
   "metadata": {},
   "source": [
    "### Method\n",
    "\n",
    "In order to make the prediction, there are three steps to do:\n",
    "1. Create a k-nn model specification and a recipe for the fit method.\n",
    "2. Train the model with the training dataset to build the classifier.\n",
    "3. Use the classifier to predict the labels in the test sets.       \n",
    "\n",
    "#### 6 Predictors chosen:\n",
    "* age, sex, chest pain types (cp), thalach, exang, oldpeak, the slope of the peak exercise ST segment(slope)\n",
    "\n",
    "\n"
   ]
  },
  {
   "cell_type": "markdown",
   "metadata": {},
   "source": [
    "### Expected Outcomes and Significance    \n",
    "\n",
    "1. What do you expect to find?   \n",
    "\n",
    "    Our training dataset will allow us to predict the probability of an individual contracting heart disease given patient's . \n",
    "    Additionally, we hope to discover which factors are most associated with a person's risk of developing a heart disease.  \n",
    "\n",
    "2. What impact could such findings have?    \n",
    "\n",
    "    With this finding, doctors would be able to analyze patients’ records in a more informative manner. It will be easier to make a swift decision to conduct further diagnostic cardiology on the patient if a certain index is abnormal as indicated in the report later, and this will significantly reduce the chance of misdiagnosis and provide more time for patient diagnosis and treatment.  \n",
    "\n",
    "3. What future questions could this lead to?   \n",
    "\n",
    "    As this dataset only has 303 instances which is not sufficient for making accurate predictions, we could increase the accuracy of prediction by including more instances . Furthermore, since this data set only contains patients’ data in Cleveland, it would also be interesting to observe if the key factors leading to heart disease differ between different locations if we have a heart disease data set from a collection of locations. \n"
   ]
  },
  {
   "cell_type": "markdown",
   "metadata": {},
   "source": [
    "### Create models"
   ]
  },
  {
   "cell_type": "code",
   "execution_count": null,
   "metadata": {},
   "outputs": [],
   "source": [
    "knn_spec <- nearest_neighbor(weight_func = \"rectangular\", neighbors = tune()) %>%\n",
    "            set_engine(\"kknn\")%>%\n",
    "            set_mode(\"classification\") \n",
    "knn_spec"
   ]
  },
  {
   "cell_type": "markdown",
   "metadata": {},
   "source": [
    "### Create Recipe--MISSING UPSAMPLE"
   ]
  },
  {
   "cell_type": "code",
   "execution_count": null,
   "metadata": {},
   "outputs": [],
   "source": [
    "heart_recipe <- recipe(num ~ ., data = heart_disease_train)%>%\n",
    "        step_scale(all_predictors())%>%\n",
    "        step_center(all_predictors()) \n",
    "\n",
    "# MISSING STEP_UPSAMPLE\n",
    "# bake <- bake(heart_recipe,heart_disease_train)\n",
    "\n",
    "\n",
    "\n",
    "heart_disease_vfold <- vfold_cv(heart_disease_train, v = 5, strata = num)\n",
    "\n",
    "# FITTING Model\n",
    "\n",
    "k_lots <- tibble(neighbors = seq(from = 1, to = 50, by = 1))\n",
    "\n",
    "knn_fit <- workflow() %>% \n",
    "            add_recipe(heart_recipe) %>% \n",
    "            add_model(knn_spec) %>% \n",
    "            tune_grid(resamples = heart_disease_vfold, grid = k_lots)\n",
    "\n"
   ]
  },
  {
   "cell_type": "code",
   "execution_count": null,
   "metadata": {},
   "outputs": [],
   "source": [
    "# set metrics\n",
    "\n",
    "heart_disease_metrics <- knn_fit %>% \n",
    "                        collect_metrics()\n",
    "\n",
    "accuracies <- heart_disease_metrics %>% \n",
    "        filter(.metric == \"accuracy\") \n",
    "accuracies\n",
    "    \n",
    "accuracy_vs_k <- ggplot(accuracies, aes(x = neighbors, y = mean)) +\n",
    "  geom_point() +\n",
    "  geom_line() +\n",
    "  labs(x = \"Neighbors\", y = \"Accuracy Estimate\") +\n",
    "  theme(text = element_text(size = 12))\n",
    "\n",
    "accuracy_vs_k\n",
    "\n",
    "accuracies_final <- heart_disease_metrics %>% \n",
    "        filter(.metric == \"accuracy\") %>% \n",
    "        arrange(mean) %>% \n",
    "        tail(1)\n",
    "accuracies_final\n"
   ]
  },
  {
   "cell_type": "code",
   "execution_count": null,
   "metadata": {},
   "outputs": [],
   "source": [
    "# knn_tune\n",
    "\n",
    "knn_spec_2 <- nearest_neighbor(weight_func = \"rectangular\", neighbors = 25) %>% \n",
    "  set_engine(\"kknn\") %>% \n",
    "  set_mode(\"classification\")\n",
    "\n",
    "knn_fit_2 <- workflow() %>% \n",
    "  add_recipe(heart_recipe) %>% \n",
    "  add_model(knn_spec_2) %>% \n",
    "  fit(data = heart_disease_train)\n",
    "\n"
   ]
  },
  {
   "cell_type": "code",
   "execution_count": null,
   "metadata": {},
   "outputs": [],
   "source": [
    "# make predictions\n",
    "\n",
    "heart_prediction <- predict(knn_fit_2, heart_disease_test) %>% \n",
    "                    bind_cols(heart_disease_test)\n",
    "\n",
    "heart_metrics <- heart_prediction %>% \n",
    "                metrics(truth = num, estimate = .pred_class) %>% \n",
    "                filter(.metric == \"accuracy\")\n",
    "\n",
    "mnist_conf_mat <- heart_prediction %>% \n",
    "                 conf_mat(truth = num, estimate = .pred_class)\n",
    "\n",
    "# mnist_metrics <- mnist_predictions %>%\n",
    "#         metrics(truth = y, estimate = .pred_class) %>% \n",
    "#         filter(.metric == \"accuracy\")\n",
    "# mnist_metrics\n",
    "# mnist_conf_mat <- mnist_predictions %>% \n",
    "#                 conf_mat(truth = y, estimate = .pred_class)\n",
    "heart_metrics\n",
    "mnist_conf_mat"
   ]
  },
  {
   "cell_type": "markdown",
   "metadata": {},
   "source": [
    "## optimizing our classifier\n"
   ]
  },
  {
   "cell_type": "code",
   "execution_count": null,
   "metadata": {},
   "outputs": [],
   "source": [
    "heart_recipe_new <- recipe(num ~ sex + cp + thalach + exang + slope, data = heart_disease_train)%>%\n",
    "        step_scale(all_predictors())%>%\n",
    "        step_center(all_predictors()) \n",
    "\n",
    "heart_disease_vfold <- vfold_cv(heart_disease_train, v = 5, strata = num)\n",
    "\n",
    "\n",
    "# FITTING Model\n",
    "\n",
    "k_lots <- tibble(neighbors = seq(from = 1, to = 50, by = 1))\n",
    "\n",
    "knn_fit_new <- workflow() %>% \n",
    "            add_recipe(heart_recipe_new) %>% \n",
    "            add_model(knn_spec) %>% \n",
    "            tune_grid(resamples = heart_disease_vfold, grid = k_lots)\n",
    "\n",
    "\n",
    "\n",
    "heart_disease_metrics_new <- knn_fit_new %>% \n",
    "                        collect_metrics()\n",
    "\n",
    "accuracies_new <- heart_disease_metrics_new %>% \n",
    "        filter(.metric == \"accuracy\") \n",
    "accuracies_new\n",
    "    \n",
    "accuracy_vs_k_new <- ggplot(accuracies_new, aes(x = neighbors, y = mean)) +\n",
    "  geom_point() +\n",
    "  geom_line() +\n",
    "  labs(x = \"Neighbors\", y = \"Accuracy Estimate\") +\n",
    "  theme(text = element_text(size = 12))\n",
    "\n",
    "accuracy_vs_k_new\n",
    "\n",
    "accuracies_final_new <- heart_disease_metrics_new %>% \n",
    "        filter(.metric == \"accuracy\") %>% \n",
    "        arrange(mean) %>% \n",
    "        tail(1)\n",
    "\n",
    "accuracies_final_new\n",
    "\n",
    "\n"
   ]
  },
  {
   "cell_type": "code",
   "execution_count": null,
   "metadata": {},
   "outputs": [],
   "source": [
    "knn_spec_2 <- nearest_neighbor(weight_func = \"rectangular\", neighbors = 23) %>% \n",
    "  set_engine(\"kknn\") %>% \n",
    "  set_mode(\"classification\")\n",
    "\n",
    "knn_fit_new <- workflow() %>% \n",
    "  add_recipe(heart_recipe_new) %>% \n",
    "  add_model(knn_spec_2) %>% \n",
    "  fit(data = heart_disease_train)\n",
    "\n",
    "heart_prediction_new <- predict(knn_fit_new, heart_disease_test) %>% \n",
    "                    bind_cols(heart_disease_test)\n",
    "\n",
    "heart_metrics_new <- heart_prediction_new %>% \n",
    "                metrics(truth = num, estimate = .pred_class) %>% \n",
    "                filter(.metric == \"accuracy\")\n",
    "\n",
    "mnist_conf_mat_new <- heart_prediction_new %>% \n",
    "                 conf_mat(truth = num, estimate = .pred_class)\n",
    "heart_metrics_new\n",
    "mnist_conf_mat_new"
   ]
  },
  {
   "cell_type": "markdown",
   "metadata": {},
   "source": [
    "### Questions to ask: \n",
    "- upsample --> change the predicted variable to binary categorical. \n",
    "- final visualization\n",
    "- optimizing our number of k neighbours\n",
    "- clean up R error\n",
    "- is our classifier trained: validate with test data\n",
    "- \n",
    "- do we need to compare our result with the initial hypothesis using graphs\n",
    "- potential risks -- TODO\n",
    "\n",
    "\n",
    "using five predictors: with high correlation.\n",
    "binary categorical -- 0 and 1\n",
    "final visulizatino with bar chart(quantitative and categorical), boxplot(quantitative): "
   ]
  },
  {
   "cell_type": "markdown",
   "metadata": {},
   "source": [
    "## Mutating Num to binary categorical"
   ]
  },
  {
   "cell_type": "code",
   "execution_count": null,
   "metadata": {},
   "outputs": [],
   "source": [
    "heart_disease_data_3 <- read_csv(heart_disease_url, col_names = c(\"age\", \"sex\", \"cp\", \"trestbps\", \"chol\", \"fbs\",\n",
    "                                                               \"restecg\", \"thalach\", \"exang\", \"oldpeak\", \"slope\",\n",
    "                                                               \"ca\", \"thal\", \"num\")) %>% \n",
    "                    mutate(num = replace(num, num =='2',1)) %>% \n",
    "                    mutate(num = replace(num, num =='3',1)) %>% \n",
    "                    mutate(num = replace(num, num =='4',1)) %>% \n",
    "                    mutate(num = as.factor(num)) %>%  \n",
    "                    select(cp, thalach, exang, slope, oldpeak, num) \n",
    "heart_disease_data_3    "
   ]
  },
  {
   "cell_type": "markdown",
   "metadata": {},
   "source": [
    "## Check for balancing"
   ]
  },
  {
   "cell_type": "code",
   "execution_count": null,
   "metadata": {},
   "outputs": [],
   "source": [
    "num_obs_new <- nrow(heart_disease_data_3)\n",
    "        heart_disease_data_3 %>% \n",
    "        group_by(num) %>% \n",
    "        summarize(\n",
    "        count = n(),\n",
    "        percentage = n() / num_obs_new * 100)"
   ]
  },
  {
   "cell_type": "markdown",
   "metadata": {},
   "source": [
    "## Spliting and training data"
   ]
  },
  {
   "cell_type": "code",
   "execution_count": null,
   "metadata": {},
   "outputs": [],
   "source": [
    "set.seed(1234)\n",
    "heart_disease_split_mut <- initial_split(heart_disease_data_3, prop = 0.75, strata = num)\n",
    "heart_disease_train_mut <- training(heart_disease_split_mut)\n",
    "heart_disease_test_mut <- testing(heart_disease_split_mut)\n",
    "\n",
    "head(heart_disease_data_3, 10)"
   ]
  },
  {
   "cell_type": "markdown",
   "metadata": {},
   "source": [
    "## Create model"
   ]
  },
  {
   "cell_type": "code",
   "execution_count": null,
   "metadata": {},
   "outputs": [],
   "source": [
    "knn_spec_mut <- nearest_neighbor(weight_func = \"rectangular\", neighbors = tune()) %>%\n",
    "            set_engine(\"kknn\")%>%\n",
    "            set_mode(\"classification\") \n",
    "knn_spec_mut"
   ]
  },
  {
   "cell_type": "code",
   "execution_count": null,
   "metadata": {},
   "outputs": [],
   "source": [
    "heart_recipe_mut <- recipe(num ~ ., data = heart_disease_train_mut)%>%\n",
    "        step_scale(all_predictors())%>%\n",
    "        step_center(all_predictors()) \n",
    "\n",
    "heart_disease_vfold_mut <- vfold_cv(heart_disease_train_mut, v = 5, strata = num)\n"
   ]
  },
  {
   "cell_type": "code",
   "execution_count": null,
   "metadata": {},
   "outputs": [],
   "source": [
    "k_lots_mut <- tibble(neighbors = seq(from = 1, to = 50, by = 1))\n",
    "\n",
    "knn_fit_mut <- workflow() %>% \n",
    "            add_recipe(heart_recipe_mut) %>% \n",
    "            add_model(knn_spec_mut) %>% \n",
    "            tune_grid(resamples = heart_disease_vfold_mut, grid = k_lots_mut) "
   ]
  },
  {
   "cell_type": "code",
   "execution_count": null,
   "metadata": {},
   "outputs": [],
   "source": [
    "heart_disease_metrics_mut <- knn_fit_mut %>% \n",
    "                        collect_metrics()\n",
    "\n",
    "accuracies_mut <- heart_disease_metrics_mut %>% \n",
    "        filter(.metric == \"accuracy\") \n",
    "accuracies_mut\n",
    "    \n",
    "# accuracy_vs_k_mut <- ggplot(accuracies_mut, aes(x = neighbors, y = mean)) +\n",
    "#   geom_point() +\n",
    "#   geom_line() +\n",
    "#   labs(x = \"Neighbors\", y = \"Accuracy Estimate\") +\n",
    "#   theme(text = element_text(size = 12))\n",
    "\n",
    "# accuracy_vs_k_mut\n",
    "\n",
    "# accuracies_final_mut <- heart_disease_metrics_mut %>% \n",
    "#         filter(.metric == \"accuracy\") %>% \n",
    "#         arrange(mean) %>% \n",
    "#         tail(1)\n",
    "# accuracies_final_mut"
   ]
  },
  {
   "cell_type": "code",
   "execution_count": null,
   "metadata": {},
   "outputs": [],
   "source": [
    "accuracy_vs_k_mut <- ggplot(accuracies_mut, aes(x = neighbors, y = mean)) +\n",
    "  geom_point() +\n",
    "  geom_line() +\n",
    "  labs(x = \"Neighbors\", y = \"Accuracy Estimate\") +\n",
    "  theme(text = element_text(size = 12))\n",
    "\n",
    "accuracy_vs_k_mut"
   ]
  },
  {
   "cell_type": "code",
   "execution_count": null,
   "metadata": {},
   "outputs": [],
   "source": [
    "accuracies_final_mut <- heart_disease_metrics_mut %>% \n",
    "        filter(.metric == \"accuracy\") %>% \n",
    "        arrange(mean) %>% \n",
    "        tail(1)\n",
    "accuracies_final_mut"
   ]
  },
  {
   "cell_type": "code",
   "execution_count": null,
   "metadata": {},
   "outputs": [],
   "source": [
    "knn_spec_mut <- nearest_neighbor(weight_func = \"rectangular\", neighbors = 26) %>% \n",
    "  set_engine(\"kknn\") %>% \n",
    "  set_mode(\"classification\")\n",
    "knn_spec_mut\n",
    "\n",
    "knn_fit_mut <- workflow() %>% \n",
    "  add_recipe(heart_recipe_mut) %>% \n",
    "  add_model(knn_spec_mut) %>% \n",
    "  fit(data = heart_disease_train_mut)\n",
    "knn_fit_mut"
   ]
  },
  {
   "cell_type": "code",
   "execution_count": null,
   "metadata": {},
   "outputs": [],
   "source": [
    "heart_prediction_mut <- predict(knn_fit_mut, heart_disease_test_mut) %>% \n",
    "                    bind_cols(heart_disease_test_mut)\n",
    "\n",
    "heart_metrics_mut <- heart_prediction_mut %>% \n",
    "                metrics(truth = num, estimate = .pred_class) %>% \n",
    "                filter(.metric == \"accuracy\")\n",
    "\n",
    "mnist_conf_mat_mut <- heart_prediction_mut %>% \n",
    "                 conf_mat(truth = num, estimate = .pred_class)\n",
    "\n",
    "heart_prediction_mut\n",
    "heart_metrics_mut\n",
    "mnist_conf_mat_mut"
   ]
  },
  {
   "cell_type": "markdown",
   "metadata": {},
   "source": [
    "### FINAL Visualization"
   ]
  },
  {
   "cell_type": "code",
   "execution_count": null,
   "metadata": {},
   "outputs": [],
   "source": [
    "pred_vs_actual <- heart_prediction_mut %>% \n",
    "                select(.pred_class, cp, num) %>% \n",
    "                \n",
    "                "
   ]
  },
  {
   "cell_type": "code",
   "execution_count": null,
   "metadata": {},
   "outputs": [],
   "source": [
    "num_of_false_negative<-select(heart_prediction_mut, .pred_class == 1)"
   ]
  },
  {
   "cell_type": "markdown",
   "metadata": {},
   "source": [
    "## 4 predictors"
   ]
  },
  {
   "cell_type": "code",
   "execution_count": null,
   "metadata": {},
   "outputs": [],
   "source": [
    "heart_disease_data_4 <- read_csv(heart_disease_url, col_names = c(\"age\", \"sex\", \"cp\", \"trestbps\", \"chol\", \"fbs\",\n",
    "                                                               \"restecg\", \"thalach\", \"exang\", \"oldpeak\", \"slope\",\n",
    "                                                               \"ca\", \"thal\", \"num\")) %>% \n",
    "                    mutate(num = replace(num, num =='2',1)) %>% \n",
    "                    mutate(num = replace(num, num =='3',1)) %>% \n",
    "                    mutate(num = replace(num, num =='4',1)) %>% \n",
    "                    mutate(num = as.factor(num), cp = as.factor(cp), \n",
    "                          exang = as.factor(exang)) %>% \n",
    "                    select(cp, thalach, exang, oldpeak, num) \n",
    "heart_disease_data_4   \n",
    "\n",
    "#  mutate(cp = as.factor(cp), fbs = as.factor(fbs), restecg = as.factor(restecg), \n",
    "#                             exang = as.factor(exang), slope = as.factor(slope), sex = as.factor(sex)) %>%"
   ]
  },
  {
   "cell_type": "code",
   "execution_count": null,
   "metadata": {},
   "outputs": [],
   "source": [
    "set.seed(1234)\n",
    "heart_disease_split_mut_4 <- initial_split(heart_disease_data_4, prop = 0.75, strata = num)\n",
    "heart_disease_train_mut_4 <- training(heart_disease_split_mut_4)\n",
    "heart_disease_test_mut_4 <- testing(heart_disease_split_mut_4)\n",
    "\n",
    "head(heart_disease_data_4, 10)"
   ]
  },
  {
   "cell_type": "code",
   "execution_count": null,
   "metadata": {},
   "outputs": [],
   "source": [
    "knn_spec_mut_4 <- nearest_neighbor(weight_func = \"rectangular\", neighbors = tune()) %>%\n",
    "            set_engine(\"kknn\")%>%\n",
    "            set_mode(\"classification\") \n",
    "knn_spec_mut_4"
   ]
  },
  {
   "cell_type": "code",
   "execution_count": null,
   "metadata": {},
   "outputs": [],
   "source": [
    "heart_recipe_mut_new_4 <- recipe(num ~ ., data = heart_disease_train_mut_4)%>%\n",
    "        step_scale(all_predictors())%>%\n",
    "        step_center(all_predictors()) \n",
    "\n",
    "heart_disease_vfold_mut_4 <- vfold_cv(heart_disease_train_mut_4, v = 5, strata = num)"
   ]
  },
  {
   "cell_type": "code",
   "execution_count": null,
   "metadata": {},
   "outputs": [],
   "source": [
    "k_lots_mut_4 <- tibble(neighbors = seq(from = 1, to = 80, by = 5))\n",
    "\n",
    "knn_fit_mut_4 <- workflow() %>% \n",
    "            add_recipe(heart_recipe_mut_new_4) %>% \n",
    "            add_model(knn_spec_mut_4) %>% \n",
    "            tune_grid(resamples = heart_disease_vfold_mut_4, grid = k_lots_mut_4)"
   ]
  },
  {
   "cell_type": "code",
   "execution_count": null,
   "metadata": {},
   "outputs": [],
   "source": [
    "heart_disease_metrics_mut_4 <- knn_fit_mut_4 %>% \n",
    "                        collect_metrics()\n",
    "\n",
    "accuracies_mut_4 <- heart_disease_metrics_mut_4 %>% \n",
    "        filter(.metric == \"accuracy\") \n",
    "accuracies_mut_4\n",
    "    \n",
    "accuracy_vs_k_mut_4 <- ggplot(accuracies_mut_4, aes(x = neighbors, y = mean)) +\n",
    "  geom_point() +\n",
    "  geom_line() +\n",
    "  labs(x = \"Neighbors\", y = \"Accuracy Estimate\") +\n",
    "  theme(text = element_text(size = 12))\n",
    "\n",
    "accuracy_vs_k_mut_4\n",
    "\n",
    "accuracies_final_mut_4 <- heart_disease_metrics_mut_4 %>% \n",
    "        filter(.metric == \"accuracy\") %>% \n",
    "        arrange(mean) %>% \n",
    "        tail(1)\n",
    "accuracies_final_mut_4"
   ]
  },
  {
   "cell_type": "code",
   "execution_count": null,
   "metadata": {},
   "outputs": [],
   "source": [
    "source(\"cleanup.R\")"
   ]
  }
 ],
 "metadata": {
  "kernelspec": {
   "display_name": "R",
   "language": "R",
   "name": "ir"
  },
  "language_info": {
   "codemirror_mode": "r",
   "file_extension": ".r",
   "mimetype": "text/x-r-source",
   "name": "R",
   "pygments_lexer": "r",
   "version": "4.0.0"
  }
 },
 "nbformat": 4,
 "nbformat_minor": 4
}
